{
 "cells": [
  {
   "cell_type": "code",
   "execution_count": 7,
   "metadata": {},
   "outputs": [
    {
     "name": "stdout",
     "output_type": "stream",
     "text": [
      "java -Xmx8g -cp  \"./*\" edu.stanford.nlp.pipeline.StanfordCoreNLPServer -port 9000\n"
     ]
    }
   ],
   "source": [
    "import re\n",
    "import sys\n",
    "\n",
    "from stanfordcorenlp import StanfordCoreNLP\n",
    "\n",
    "nlp = StanfordCoreNLP('./', lang=\"en\")"
   ]
  },
  {
   "cell_type": "code",
   "execution_count": 8,
   "metadata": {},
   "outputs": [],
   "source": [
    "dataset = 'healthcare'"
   ]
  },
  {
   "cell_type": "code",
   "execution_count": 10,
   "metadata": {},
   "outputs": [],
   "source": [
    "if __name__ == '__main__':\n",
    "  f = open('../amazon/'+ dataset +'/reviewText_' + dataset + '.txt','r')\n",
    "  lines = f.readlines()\n",
    "  g = open('../amazon/'+ dataset +'/reviewText_' + dataset + '.tok.txt','w')\n",
    "  for line in lines :\n",
    "  \ttoken_sent = nlp.word_tokenize(line)\n",
    "  \ttokens = [nlp._convert(token).lower() for token in token_sent]\n",
    "  \tl = ''\n",
    "  \tl += ' '.join(tokens)\n",
    "  \tl += '\\n'\n",
    "  \tg.write(l)\n",
    "\n",
    "  f.close()\n",
    "  g.close()"
   ]
  },
  {
   "cell_type": "code",
   "execution_count": null,
   "metadata": {},
   "outputs": [],
   "source": []
  }
 ],
 "metadata": {
  "kernelspec": {
   "display_name": "Python 3",
   "language": "python",
   "name": "python3"
  },
  "language_info": {
   "codemirror_mode": {
    "name": "ipython",
    "version": 3
   },
   "file_extension": ".py",
   "mimetype": "text/x-python",
   "name": "python",
   "nbconvert_exporter": "python",
   "pygments_lexer": "ipython3",
   "version": "3.5.4"
  }
 },
 "nbformat": 4,
 "nbformat_minor": 2
}
