{
 "cells": [
  {
   "cell_type": "code",
   "execution_count": 23,
   "metadata": {},
   "outputs": [
    {
     "name": "stdout",
     "output_type": "stream",
     "text": [
      "/Volumes/Research/double_propagation/data/restaurant/restaurant.toks_test\n",
      "/Volumes/Research/double_propagation/data/restaurant/restaurant.toks.tok_test\n",
      "/Volumes/Research/double_propagation/data/restaurant/restaurant.parents_test\n",
      "/Volumes/Research/double_propagation/data/restaurant/restaurant.rels_test\n"
     ]
    }
   ],
   "source": [
    "import os\n",
    "\n",
    "def main(dataset, Type = '_test'):\n",
    "    root_folder = '/Volumes/Research/double_propagation/data/'\n",
    "    pwd = root_folder + dataset + '/'\n",
    "    prefix = pwd + dataset\n",
    "    input_file = prefix + '.toks' + Type\n",
    "    tok_file = prefix + '.toks.tok' + Type\n",
    "    parent_file = prefix + '.parents' + Type\n",
    "    rel_file = prefix + '.rels' + Type\n",
    "    print(input_file)\n",
    "    print(tok_file)\n",
    "    print(parent_file)\n",
    "    print(rel_file)\n",
    "    #cmd = 'java -cp /Volumes/Research/treelstm-master/lib:/Volumes/Research/treelstm-master/lib/stanford-parser/stanford-parser.jar:/Volumes/Research/treelstm-master/lib/stanford-parser/stanford-parser-3.5.1-models.jar DependencyParse -tokpath %s -parentpath %s -relpath %s < %s' % (tok_file, parent_file, rel_file, input_file)\n",
    "    os.system('java -cp /Volumes/Research/treelstm-master/lib:/Volumes/Research/treelstm-master/lib/stanford-parser/stanford-parser.jar:/Volumes/Research/treelstm-master/lib/stanford-parser/stanford-parser-3.5.1-models.jar DependencyParse -tokpath %s -parentpath %s -relpath %s < %s' % (tok_file, parent_file, rel_file, input_file))\n",
    "\n",
    "######### Main Block ###########\n",
    "if __name__ == '__main__':\n",
    "    dataset = 'restaurant'  # ['laptop', 'restaurant']\n",
    "    main(dataset)\n",
    "\n"
   ]
  },
  {
   "cell_type": "code",
   "execution_count": null,
   "metadata": {},
   "outputs": [],
   "source": [
    "input_file = /Volumes/Research/double_propagation/data\n",
    "\n",
    "tok_file = \n",
    "\n",
    "parent_file = "
   ]
  },
  {
   "cell_type": "code",
   "execution_count": 19,
   "metadata": {},
   "outputs": [],
   "source": [
    "######### Main Block ###########\n",
    "if __name__ == '__main__':\n",
    "    dataset = 'restaurant'  # ['laptop', 'restaurant']\n",
    "    main(dataset)\n"
   ]
  },
  {
   "cell_type": "code",
   "execution_count": 17,
   "metadata": {},
   "outputs": [],
   "source": [
    "dataset = 'restaurant'  # ['laptop', 'restaurant']\n",
    "main(dataset)\n"
   ]
  },
  {
   "cell_type": "code",
   "execution_count": null,
   "metadata": {},
   "outputs": [],
   "source": []
  }
 ],
 "metadata": {
  "kernelspec": {
   "display_name": "Python 2",
   "language": "python",
   "name": "python2"
  },
  "language_info": {
   "codemirror_mode": {
    "name": "ipython",
    "version": 2
   },
   "file_extension": ".py",
   "mimetype": "text/x-python",
   "name": "python",
   "nbconvert_exporter": "python",
   "pygments_lexer": "ipython2",
   "version": "2.7.10"
  }
 },
 "nbformat": 4,
 "nbformat_minor": 2
}
