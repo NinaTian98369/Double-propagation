{
 "cells": [
  {
   "cell_type": "code",
   "execution_count": 1,
   "metadata": {},
   "outputs": [],
   "source": [
    "import re\n",
    "import sys"
   ]
  },
  {
   "cell_type": "code",
   "execution_count": 2,
   "metadata": {},
   "outputs": [],
   "source": [
    "file = open('../amazon/healthcare/reviewText_healthcare.tok.tok.txt','r')\n",
    "opinion = open('../amazon/healthcare/healthcare.opinion.aux.txt','r')\n",
    "aspect = open('../amazon/healthcare/healthcare.label.aux.txt','r')"
   ]
  },
  {
   "cell_type": "code",
   "execution_count": 3,
   "metadata": {},
   "outputs": [],
   "source": [
    "f_lines = file.readlines()\n",
    "o_lines  = opinion.readlines()\n",
    "a_lines = aspect.readlines()"
   ]
  },
  {
   "cell_type": "code",
   "execution_count": 11,
   "metadata": {},
   "outputs": [],
   "source": [
    "opinion_words=[]\n",
    "opinion_word=''\n",
    "aspect_words = []\n",
    "aspect_word =''"
   ]
  },
  {
   "cell_type": "code",
   "execution_count": 12,
   "metadata": {
    "scrolled": true
   },
   "outputs": [
    {
     "data": {
      "text/plain": [
       "list"
      ]
     },
     "execution_count": 12,
     "metadata": {},
     "output_type": "execute_result"
    }
   ],
   "source": [
    "type(opinion_words)"
   ]
  },
  {
   "cell_type": "code",
   "execution_count": 13,
   "metadata": {},
   "outputs": [],
   "source": [
    "'''\n",
    "o_dict = {}\n",
    "a_dict = {}\n",
    "for f_line, o_line, a_line in zip(f_lines,o_lines,a_lines):\n",
    "    f_line = f_line.split()\n",
    "    o_line = o_line.split()\n",
    "    a_line = a_line.split()\n",
    "    #print(len(f_line))\n",
    "    #print(len(o_line))\n",
    "    for f,o,a in zip(f_line,o_line,a_line):\n",
    "        if(o=='B-OP'):\n",
    "            opinion_word = f\n",
    "        if(o=='I-OP'):\n",
    "            opinion_word = opinion_word+' '+f\n",
    "        if opinion_word not in opinion_words:\n",
    "            opinion_words.append(opinion_word)\n",
    "            opinion_word=''\n",
    "            \n",
    "        if(a=='B-ASP'):\n",
    "            aspect_word = f\n",
    "        if(a=='I-OP'):\n",
    "            aspect_word = aspect_word+' '+f\n",
    "        if aspect_word not in aspect_words:\n",
    "            aspect_words.append(aspect_word)\n",
    "            aspect_word=''\n",
    "            \n",
    "        \n",
    "    '''\n",
    "'''\n",
    "     for element in o_line:\n",
    "        if(element=='this'):\n",
    "            print('found')\n",
    "    for f,o in zip(f_line,o_line):\n",
    "        print(f)\n",
    "        print(o)\n",
    "        '''\n",
    "'''"
   ]
  },
  {
   "cell_type": "code",
   "execution_count": 4,
   "metadata": {},
   "outputs": [],
   "source": [
    "o_dict = {}\n",
    "a_dict = {}\n",
    "aspect_word = ''\n",
    "opinion_word = ''\n",
    "for f_line, o_line, a_line in zip(f_lines,o_lines,a_lines):\n",
    "    f_line = f_line.split()\n",
    "    o_line = o_line.split()\n",
    "    a_line = a_line.split()\n",
    "    #print(len(f_line))\n",
    "    #print(len(o_line))\n",
    "    for f,o,a in zip(f_line,o_line,a_line):\n",
    "        if(o=='B-OP'):\n",
    "            opinion_word = f\n",
    "        if(o=='I-OP'):\n",
    "            opinion_word = opinion_word+' '+f\n",
    "        if opinion_word not in o_dict:\n",
    "            o_dict[opinion_word] = 1\n",
    "            opinion_word=''\n",
    "        else:\n",
    "            o_dict[opinion_word] += 1\n",
    "            opinion_word=''\n",
    "            \n",
    "        if(a=='B-ASP'):\n",
    "            aspect_word = f\n",
    "        if(a=='I-OP'):\n",
    "            aspect_word = aspect_word+' '+f\n",
    "        if aspect_word not in a_dict:\n",
    "            a_dict[aspect_word] = 1\n",
    "            aspect_word=''\n",
    "        else:\n",
    "            a_dict[aspect_word] += 1\n",
    "            aspect_word=''\n",
    "            \n",
    "        \n",
    "    '''\n",
    "     for element in o_line:\n",
    "        if(element=='this'):\n",
    "            print('found')\n",
    "    for f,o in zip(f_line,o_line):\n",
    "        print(f)\n",
    "        print(o)\n",
    "        '''\n"
   ]
  },
  {
   "cell_type": "code",
   "execution_count": 14,
   "metadata": {},
   "outputs": [],
   "source": [
    "save_o  = open('../amazon/healthcare/opinion_words_healthcare.txt','w')\n",
    "for op in opinion_words:\n",
    "    save_o.write(op)\n",
    "    save_o.write('\\n')\n",
    "save_o.close()"
   ]
  },
  {
   "cell_type": "code",
   "execution_count": 15,
   "metadata": {},
   "outputs": [],
   "source": [
    "save_a  = open('../amazon/healthcare/aspect_words_healthcare.txt','w')\n",
    "for ap in aspect_words:\n",
    "    save_a.write(ap)\n",
    "    save_a.write('\\n')\n",
    "save_a.close()"
   ]
  },
  {
   "cell_type": "code",
   "execution_count": 5,
   "metadata": {},
   "outputs": [],
   "source": [
    "save_o  = open('../amazon/healthcare/00opinion_words_healthcare.txt','w')\n",
    "save_a  = open('../amazon/healthcare/00aspect_words_healthcare.txt','w')\n",
    "\n",
    "for op in o_dict:\n",
    "    if o_dict[op] > 2:\n",
    "        save_o.write(op)\n",
    "        save_o.write('\\n')\n",
    "save_o.close()\n",
    "\n",
    "for ap in a_dict:\n",
    "    if a_dict[ap] > 2:\n",
    "        save_a.write(ap)\n",
    "        save_a.write('\\n')\n",
    "save_a.close()        \n"
   ]
  },
  {
   "cell_type": "code",
   "execution_count": null,
   "metadata": {},
   "outputs": [],
   "source": []
  }
 ],
 "metadata": {
  "kernelspec": {
   "display_name": "Python 3",
   "language": "python",
   "name": "python3"
  },
  "language_info": {
   "codemirror_mode": {
    "name": "ipython",
    "version": 3
   },
   "file_extension": ".py",
   "mimetype": "text/x-python",
   "name": "python",
   "nbconvert_exporter": "python",
   "pygments_lexer": "ipython3",
   "version": "3.5.4"
  }
 },
 "nbformat": 4,
 "nbformat_minor": 2
}
