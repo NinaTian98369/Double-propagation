{
 "cells": [
  {
   "cell_type": "code",
   "execution_count": 10,
   "metadata": {},
   "outputs": [],
   "source": [
    "def clean_str(string):\n",
    "  \"\"\"\n",
    "  Tokenization/string cleaning for all datasets except for SST.\n",
    "  \"\"\"\n",
    "  string = re.sub(r\"[^A-Za-z(),.!?\\'\\`]\", \" \", string)     \n",
    "  string = re.sub(r\"\\'s\", \" \\'s\", string) \n",
    "  string = re.sub(r\"\\'ve\", \" \\'ve\", string)\n",
    "  string = re.sub(r\"N\\'T\", \" N\\'T\", string) \n",
    "  string = re.sub(r\"n\\'t\", \" n\\'t\", string) \n",
    "  string = re.sub(r\"\\'re\", \" \\'re\", string) \n",
    "  string = re.sub(r\"\\'d\", \" \\'d\", string) \n",
    "  string = re.sub(r\"\\'ll\", \" \\'ll\", string) \n",
    "  string = re.sub(r\",\", \" , \", string) \n",
    "  string = re.sub(r\"!\", \" ! \", string) \n",
    "  string = re.sub(r\"\\(\", \" ( \", string) \n",
    "  string = re.sub(r\"\\)\", \" ) \", string) \n",
    "  string = re.sub(r\"\\?\", \" ? \", string) \n",
    "  string = re.sub(r\"\\s{2,}\", \" \", string)    \n",
    "  return string.strip().lower()"
   ]
  },
  {
   "cell_type": "code",
   "execution_count": 11,
   "metadata": {},
   "outputs": [],
   "source": [
    "import re\n",
    "import sys"
   ]
  },
  {
   "cell_type": "code",
   "execution_count": 12,
   "metadata": {},
   "outputs": [],
   "source": [
    "f = open('../amazon/electronics/reviewText_electronics.txt','r')\n",
    "g = open('../amazon/electronics/clean_reviewText_electronics.txt','w')\n",
    "f_lines = f.readlines()\n",
    "for f_line in f_lines:\n",
    "    g_line = clean_str(f_line)\n",
    "    g.write(g_line)\n",
    "    g.write('\\n')\n",
    "g.close()\n",
    "    \n",
    "    "
   ]
  },
  {
   "cell_type": "code",
   "execution_count": null,
   "metadata": {},
   "outputs": [],
   "source": []
  }
 ],
 "metadata": {
  "kernelspec": {
   "display_name": "Python 3",
   "language": "python",
   "name": "python3"
  },
  "language_info": {
   "codemirror_mode": {
    "name": "ipython",
    "version": 3
   },
   "file_extension": ".py",
   "mimetype": "text/x-python",
   "name": "python",
   "nbconvert_exporter": "python",
   "pygments_lexer": "ipython3",
   "version": "3.5.4"
  }
 },
 "nbformat": 4,
 "nbformat_minor": 2
}
